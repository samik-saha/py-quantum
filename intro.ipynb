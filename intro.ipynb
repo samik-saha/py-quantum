{
  "nbformat": 4,
  "nbformat_minor": 0,
  "metadata": {
    "colab": {
      "name": "Untitled1.ipynb",
      "version": "0.3.2",
      "provenance": [],
      "include_colab_link": true
    },
    "kernelspec": {
      "name": "python3",
      "display_name": "Python 3"
    }
  },
  "cells": [
    {
      "cell_type": "markdown",
      "metadata": {
        "id": "view-in-github",
        "colab_type": "text"
      },
      "source": [
        "<a href=\"https://colab.research.google.com/github/samik-saha/py-quantum/blob/master/intro.ipynb\" target=\"_parent\"><img src=\"https://colab.research.google.com/assets/colab-badge.svg\" alt=\"Open In Colab\"/></a>"
      ]
    },
    {
      "metadata": {
        "id": "2oJi5VTiv_sn",
        "colab_type": "code",
        "colab": {}
      },
      "cell_type": "code",
      "source": [
        "!wget https://downloads.rigetti.com/qcs-sdk/forest-sdk-linux-deb.tar.bz2\n",
        "!tar xjf forest-sdk-linux-deb.tar.bz2\n",
        "!sudo ./forest-sdk-2.5.0-linux-deb/forest-sdk-2.5.0-linux-deb.run"
      ],
      "execution_count": 0,
      "outputs": []
    },
    {
      "metadata": {
        "id": "J98kCz7MwJGX",
        "colab_type": "code",
        "colab": {}
      },
      "cell_type": "code",
      "source": [
        "!pip install pyquil"
      ],
      "execution_count": 0,
      "outputs": []
    },
    {
      "metadata": {
        "id": "M0C9sGjkwqjQ",
        "colab_type": "code",
        "colab": {}
      },
      "cell_type": "code",
      "source": [
        "get_ipython().system_raw('qvm -S&')\n",
        "get_ipython().system_raw('quilc -S&')"
      ],
      "execution_count": 0,
      "outputs": []
    },
    {
      "metadata": {
        "id": "1lX0kBlkylwk",
        "colab_type": "code",
        "colab": {}
      },
      "cell_type": "code",
      "source": [
        "import numpy as np\n",
        "from pyquil import Program, get_qc\n",
        "from pyquil.gates import *\n",
        "from pyquil.api import WavefunctionSimulator"
      ],
      "execution_count": 0,
      "outputs": []
    },
    {
      "metadata": {
        "id": "E-85emfaz6tm",
        "colab_type": "code",
        "colab": {
          "base_uri": "https://localhost:8080/",
          "height": 51
        },
        "outputId": "04de2145-de28-497e-cb14-9d1b7666269d"
      },
      "cell_type": "code",
      "source": [
        "# construct a Bell State program\n",
        "p = Program(H(0), CNOT(0, 1))\n",
        "\n",
        "# run the program on a QVM\n",
        "qc = get_qc('9q-square-qvm')\n",
        "result = qc.run_and_measure(p, trials=10)\n",
        "print(result[0])\n",
        "print(result[1])"
      ],
      "execution_count": 22,
      "outputs": [
        {
          "output_type": "stream",
          "text": [
            "[1 1 1 1 0 0 0 1 1 0]\n",
            "[1 1 1 1 0 0 0 1 1 0]\n"
          ],
          "name": "stdout"
        }
      ]
    },
    {
      "metadata": {
        "id": "n4eLb18r1tTH",
        "colab_type": "code",
        "colab": {
          "base_uri": "https://localhost:8080/",
          "height": 68
        },
        "outputId": "8e02c2bd-0b0c-4e1d-ef2b-93f3b7817e21"
      },
      "cell_type": "code",
      "source": [
        "# create a WavefunctionSimulator object\n",
        "wavefunction_simulator = WavefunctionSimulator()\n",
        "p = Program(I(0))\n",
        "wavefunction = wavefunction_simulator.wavefunction(p)\n",
        "alpha, beta = wavefunction\n",
        "\n",
        "print(\"Our qubit is in the state alpha={} and beta={}\".format(alpha, beta))\n",
        "print(\"The probability of measuring the qubit in outcome 0 is {}\".format(abs(alpha)**2))\n",
        "print(\"The probability of measuring the qubit in outcome 1 is {}\".format(abs(beta)**2))"
      ],
      "execution_count": 25,
      "outputs": [
        {
          "output_type": "stream",
          "text": [
            "Our qubit is in the state alpha=(1+0j) and beta=0j\n",
            "The probability of measuring the qubit in outcome 0 is 1.0\n",
            "The probability of measuring the qubit in outcome 1 is 0.0\n"
          ],
          "name": "stdout"
        }
      ]
    },
    {
      "metadata": {
        "id": "_Fwv860A5rwq",
        "colab_type": "code",
        "colab": {}
      },
      "cell_type": "code",
      "source": [
        ""
      ],
      "execution_count": 0,
      "outputs": []
    }
  ]
}